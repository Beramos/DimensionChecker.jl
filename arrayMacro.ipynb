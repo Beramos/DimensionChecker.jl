{
 "cells": [
  {
   "cell_type": "markdown",
   "metadata": {},
   "source": [
    "## A macro to write the sizes of arrays in an expression"
   ]
  },
  {
   "cell_type": "markdown",
   "metadata": {},
   "source": [
    "Let's first define a function with a lot of arrays, let's construct an example"
   ]
  },
  {
   "cell_type": "code",
   "execution_count": null,
   "metadata": {
    "ExecuteTime": {
     "end_time": "2019-03-19T08:03:40.164000+01:00",
     "start_time": "2019-03-19T07:03:38.239Z"
    }
   },
   "outputs": [],
   "source": [
    "include(\"./DimensionChecker.jl\"); using .DimensionChecker; # a dot is needed because DimensionChecker is a local module"
   ]
  },
  {
   "cell_type": "code",
   "execution_count": 2,
   "metadata": {
    "ExecuteTime": {
     "end_time": "2019-03-19T08:04:26.255000+01:00",
     "start_time": "2019-03-19T07:04:23.354Z"
    }
   },
   "outputs": [
    {
     "data": {
      "text/plain": [
       ":(((x + z * y) * u ^ 2) * v)"
      ]
     },
     "execution_count": 2,
     "metadata": {},
     "output_type": "execute_result"
    }
   ],
   "source": [
    "x = ones(3,3);\n",
    "z = ones(3,3);\n",
    "y = ones(5,3);\n",
    "u = ones(3,3);\n",
    "v = ones(3,3);\n",
    "\n",
    "ex = :(((x + z * y)*u^2)*v)"
   ]
  },
  {
   "cell_type": "code",
   "execution_count": 3,
   "metadata": {
    "ExecuteTime": {
     "end_time": "2019-03-19T08:04:28.626000+01:00",
     "start_time": "2019-03-19T07:04:26.930Z"
    }
   },
   "outputs": [
    {
     "name": "stdout",
     "output_type": "stream",
     "text": [
      "Creating stack\n",
      "Creating symbol size array\n"
     ]
    },
    {
     "data": {
      "text/plain": [
       "\"Error in expression 'z * y' with dimensions '(3, 3) * (5, 3)'\""
      ]
     },
     "execution_count": 3,
     "metadata": {},
     "output_type": "execute_result"
    }
   ],
   "source": [
    "@dimensionCheck ((x + z * y)*u^2)*v"
   ]
  },
  {
   "cell_type": "markdown",
   "metadata": {},
   "source": [
    "## Trying out on 2D linear convection"
   ]
  },
  {
   "cell_type": "code",
   "execution_count": null,
   "metadata": {
    "ExecuteTime": {
     "end_time": "2019-03-19T07:36:10.586000+01:00",
     "start_time": "2019-03-19T06:36:10.428Z"
    }
   },
   "outputs": [],
   "source": [
    "nx = 81\n",
    "ny = 81\n",
    "nt = 100\n",
    "c = 1\n",
    "Δx = 2 / (nx - 1)\n",
    "Δy = 2 / (ny - 1)\n",
    "Δt = 1.\n",
    "u = ones(ny,nx);      ##create a 1xn vector of 1's\n",
    "u[convert(Int8,floor(0.5/Δy)):convert(Int8,floor(1/Δy+1)),\n",
    "    convert(Int8,floor(0.5/Δx)):convert(Int8,floor(1/Δy+1))] .= 2;  #then set u = 2 between 0.5 and 1 as per our I.C.s\n"
   ]
  },
  {
   "cell_type": "code",
   "execution_count": null,
   "metadata": {
    "ExecuteTime": {
     "end_time": "2019-03-19T07:36:11.797000+01:00",
     "start_time": "2019-03-19T06:36:10.913Z"
    }
   },
   "outputs": [],
   "source": [
    "un = deepcopy(u)\n",
    "ex = :(u[2:end, 2:end] = (un[2:end, 3:end] - (c * Δt / Δx * \n",
    "        (un[2:end, 2:end] - un[2:end, 1:end-1])) - \n",
    "              (c * Δt / Δy * \n",
    "            (un[2:end, 2:end] - un[1:end-1, 2:end]))))"
   ]
  },
  {
   "cell_type": "code",
   "execution_count": null,
   "metadata": {
    "ExecuteTime": {
     "end_time": "2019-03-19T07:36:13.054000+01:00",
     "start_time": "2019-03-19T06:36:12.833Z"
    }
   },
   "outputs": [],
   "source": [
    "(a,b) = init_traverse(ex)\n",
    "expr_to_size_string(a,b)"
   ]
  },
  {
   "cell_type": "code",
   "execution_count": null,
   "metadata": {},
   "outputs": [],
   "source": []
  },
  {
   "cell_type": "code",
   "execution_count": null,
   "metadata": {},
   "outputs": [],
   "source": []
  },
  {
   "cell_type": "code",
   "execution_count": 1,
   "metadata": {
    "ExecuteTime": {
     "end_time": "2019-03-19T08:04:21.255000+01:00",
     "start_time": "2019-03-19T07:04:18.166Z"
    }
   },
   "outputs": [
    {
     "data": {
      "text/plain": [
       "@dimensionCheck (macro with 1 method)"
      ]
     },
     "execution_count": 1,
     "metadata": {},
     "output_type": "execute_result"
    }
   ],
   "source": [
    "import TreeView\n",
    "\n",
    "function init_traverse(ex::Expr)\n",
    "    (exp_stack,symbol_size) = traverse(ex);\n",
    "    return (pop!(exp_stack),symbol_size)\n",
    "end\n",
    "\n",
    "function traverse(ex::Expr)\n",
    "    exp_stack = [];\n",
    "    symbol_size = Dict();\n",
    "    traverse(ex,exp_stack,symbol_size)\n",
    "end\n",
    "\n",
    "function traverse(ex::Symbol,exp_stack,symbol_size)\n",
    "    try symbol_size[string(ex)] = size(eval(ex))\n",
    "        catch e  #not the nicest code  \n",
    "    end\n",
    "end\n",
    "\n",
    "function traverse(ex::Expr,exp_stack,symbol_size) \n",
    "    if ex.head == :call  # function call \n",
    "        arg = ex.args[1];\n",
    "        if (string(arg) != \":\")\n",
    "            test!(arg,exp_stack,symbol_size)\n",
    "        end\n",
    "        # Here all the operators are skipped because they are the first argument\n",
    "        for arg in ex.args[2:end]\n",
    "            if (string(arg) != \":\")\n",
    "                test!(arg,exp_stack,symbol_size)\n",
    "            end\n",
    "            traverse(arg,exp_stack,symbol_size);  # recursive\n",
    "        end\n",
    "    \n",
    "        elseif ex.head == :ref # now where at the indexing level and stop here\n",
    "        symbol_size[string(ex)] = size(eval(ex));\n",
    "        a = size(eval(ex));\n",
    "        \n",
    "    else\n",
    "        for arg in ex.args\n",
    "            test!(arg,exp_stack,symbol_size)\n",
    "            traverse(arg,exp_stack,symbol_size);  # recursive\n",
    "        end\n",
    "    end\n",
    "\n",
    "    \n",
    "    return (exp_stack,symbol_size)\n",
    "end\n",
    "\n",
    "function traverse(ex,exp_stack,symbol_size)\n",
    "end\n",
    "\n",
    "function test!(ex::Expr,exp_stack,symbol_size)\n",
    "    try \n",
    "        eval(ex);\n",
    "    catch e\n",
    "        push!(exp_stack,ex);\n",
    "    end\n",
    "end\n",
    "\n",
    "function test!(ex,exp_stack,symbol_size)\n",
    "    # If not an expression just ignore\n",
    "end\n",
    "\n",
    "function expr_to_size_string(ex::Expr,symbol_size::Dict)\n",
    "    str = string(ex);\n",
    "    size_str = str\n",
    "    for (key, value) in symbol_size\n",
    "        size_str = replace(size_str, string(key) => string(value))\n",
    "    end\n",
    "    return \"Error in expression '\" * str * \"' with dimensions '\" * size_str *\"'\"\n",
    "end\n",
    "\n",
    "macro dimensionCheck(ex)\n",
    "    (exp_stack,symbol_size) = init_traverse(esc(ex))\n",
    "    return expr_to_size_string(exp_stack,symbol_size)\n",
    "end"
   ]
  },
  {
   "cell_type": "markdown",
   "metadata": {
    "heading_collapsed": true
   },
   "source": [
    "## Failed attempts"
   ]
  },
  {
   "cell_type": "code",
   "execution_count": null,
   "metadata": {
    "ExecuteTime": {
     "end_time": "2019-03-18T17:37:11.431000+01:00",
     "start_time": "2019-03-18T16:37:11.377Z"
    },
    "hidden": true
   },
   "outputs": [],
   "source": [
    "function replace_array(arg)\n",
    "    println(\"$(string(eval(arg)))\")\n",
    "    println(\"$(isa(eval(arg),Array))\")\n",
    "    arg = (size(eval(arg)))\n",
    "    return arg\n",
    "end\n",
    "    \n",
    "function traverse_replace(ex)\n",
    "    return ex\n",
    "end\n",
    "\n",
    "function traverse_replace(ex::Expr)\n",
    "    for (index,arg) in enumerate(ex.args)\n",
    "        if isa(eval(arg),Array)\n",
    "            arg = replace_array(arg)\n",
    "            arg = traverse_replace(arg)\n",
    "        else\n",
    "            arg = traverse_replace(arg)  # recursive\n",
    "        end\n",
    "        ex.args[index]=arg\n",
    "    end\n",
    "    return(ex)\n",
    "end\n",
    "\n",
    "function check_size(ex::Expr)\n",
    "    return string(traverse_replace(ex))\n",
    "end\n",
    "\n",
    "macro size_check(ex)\n",
    "    answer = :(check_size(esc(ex)))\n",
    "    return answer\n",
    "end"
   ]
  },
  {
   "cell_type": "code",
   "execution_count": null,
   "metadata": {
    "ExecuteTime": {
     "end_time": "2019-03-18T17:37:15.254000+01:00",
     "start_time": "2019-03-18T16:37:12.715Z"
    },
    "hidden": true
   },
   "outputs": [],
   "source": [
    "using TreeView\n",
    "@tree ((((x + z * y)*u^2)*v))"
   ]
  },
  {
   "cell_type": "code",
   "execution_count": null,
   "metadata": {
    "ExecuteTime": {
     "end_time": "2019-03-18T17:37:55.842000+01:00",
     "start_time": "2019-03-18T16:37:55.838Z"
    },
    "hidden": true
   },
   "outputs": [],
   "source": [
    "x = ones(3,3);\n",
    "y = ones(2,3);\n",
    "z = ones(3,2);\n",
    "u = ones(3,3);\n",
    "v = ones(3,11);\n",
    "\n",
    "ex = :((((x + z * y)*u^2)*v))\n",
    "\n",
    "check_size(ex)"
   ]
  },
  {
   "cell_type": "code",
   "execution_count": null,
   "metadata": {
    "ExecuteTime": {
     "end_time": "2019-03-18T17:37:17.375000+01:00",
     "start_time": "2019-03-18T16:37:16.803Z"
    },
    "hidden": true
   },
   "outputs": [],
   "source": [
    "x = ones(3,3);\n",
    "y = ones(2,3);\n",
    "z = ones(3,2);\n",
    "u = ones(3,3);\n",
    "v = ones(3,10);\n",
    "\n",
    "@size_check ((((x + z * y)*u^2)*v))"
   ]
  },
  {
   "cell_type": "code",
   "execution_count": null,
   "metadata": {
    "hidden": true
   },
   "outputs": [],
   "source": []
  }
 ],
 "metadata": {
  "hide_input": false,
  "kernelspec": {
   "display_name": "Julia 1.0.3",
   "language": "julia",
   "name": "julia-1.0"
  },
  "language_info": {
   "file_extension": ".jl",
   "mimetype": "application/julia",
   "name": "julia",
   "version": "1.0.3"
  },
  "latex_envs": {
   "LaTeX_envs_menu_present": true,
   "autoclose": false,
   "autocomplete": true,
   "bibliofile": "biblio.bib",
   "cite_by": "apalike",
   "current_citInitial": 1,
   "eqLabelWithNumbers": true,
   "eqNumInitial": 1,
   "hotkeys": {
    "equation": "Ctrl-E",
    "itemize": "Ctrl-I"
   },
   "labels_anchors": false,
   "latex_user_defs": false,
   "report_style_numbering": false,
   "user_envs_cfg": false
  },
  "toc": {
   "nav_menu": {},
   "number_sections": true,
   "sideBar": true,
   "skip_h1_title": false,
   "title_cell": "Table of Contents",
   "title_sidebar": "Contents",
   "toc_cell": false,
   "toc_position": {
    "height": "calc(100% - 180px)",
    "left": "10px",
    "top": "150px",
    "width": "381.4px"
   },
   "toc_section_display": true,
   "toc_window_display": true
  }
 },
 "nbformat": 4,
 "nbformat_minor": 2
}
